{
  "cells": [
    {
      "metadata": {
        "trusted": true
      },
      "cell_type": "code",
      "source": "import http.client, urllib.request, urllib.parse, urllib.error, base64 ,json, time",
      "execution_count": 9,
      "outputs": []
    },
    {
      "metadata": {
        "trusted": true
      },
      "cell_type": "code",
      "source": "host = 'westus2.api.cognitive.microsoft.com'",
      "execution_count": 10,
      "outputs": []
    },
    {
      "metadata": {
        "trusted": true
      },
      "cell_type": "code",
      "source": "apikey = '10b64690fe0448038xxxd1b7855'",
      "execution_count": 11,
      "outputs": []
    },
    {
      "metadata": {
        "trusted": true
      },
      "cell_type": "code",
      "source": "headers = { \n    # Request headers \n    'Content-Type': 'application/json', \n    'Ocp-Apim-Subscription-Key': apikey\n} ",
      "execution_count": 12,
      "outputs": []
    },
    {
      "metadata": {
        "trusted": true
      },
      "cell_type": "code",
      "source": "body = \"{\\\"url\\\":\\\"https://raw.githubusercontent.com/Azure-Samples/cognitive-services-REST-api-samples/master/curl/form-recognizer/contoso-receipt.png\\\"}\"",
      "execution_count": 13,
      "outputs": []
    },
    {
      "metadata": {
        "trusted": true
      },
      "cell_type": "code",
      "source": "params = urllib.parse.urlencode(\n    {}\n)",
      "execution_count": 14,
      "outputs": []
    },
    {
      "metadata": {
        "trusted": true
      },
      "cell_type": "code",
      "source": "try:\n    conn = http.client.HTTPSConnection(host)\n    conn.request(\"POST\", \"/formrecognizer/v1.0-preview/prebuilt/receipt/asyncBatchAnalyze\", body, headers)\n    response = conn.getresponse()\n    data = response.read()\n    operationURL = \"\" + response.getheader(\"Operation-Location\")\n    print (\"Operation-Location header: \" + operationURL)\n    conn.close()\nexcept Exception as e:\n    print(e)\n    exit()",
      "execution_count": 15,
      "outputs": [
        {
          "output_type": "stream",
          "text": "Operation-Location header: https://westus2.api.cognitive.microsoft.com/formrecognizer/v1.0-preview/prebuilt/receipt/operations/bebc6c85-779e-4214-9cdb-9e93de2fc0d9\n",
          "name": "stdout"
        }
      ]
    },
    {
      "metadata": {
        "trusted": true
      },
      "cell_type": "code",
      "source": "operationId = operationURL.split(\"operations/\")[1]\nprint(operationId)",
      "execution_count": 16,
      "outputs": [
        {
          "output_type": "stream",
          "text": "bebc6c85-779e-4214-9cdb-9e93de2fc0d9\n",
          "name": "stdout"
        }
      ]
    },
    {
      "metadata": {
        "trusted": true
      },
      "cell_type": "code",
      "source": "conn = http.client.HTTPSConnection(host)\nwhile True:\n    try:\n        conn.request(\"GET\", \"/formrecognizer/v1.0-preview/prebuilt/receipt/operations/\" + operationId, \"\", headers)\n        responseString = conn.getresponse().read().decode('utf-8')\n        responseDict = json.loads(responseString)\n        conn.close()\n        print(responseString)\n        if 'status' in responseDict and responseDict['status'] not in ['NotStarted','Running']:\n            break\n        time.sleep(1)\n    except Exception as e:\n        print(e)\n        exit()",
      "execution_count": 17,
      "outputs": [
        {
          "output_type": "stream",
          "text": "{\"status\":\"Succeeded\",\"recognitionResults\":[{\"page\":1,\"clockwiseOrientation\":0.36,\"width\":1688,\"height\":3000,\"unit\":\"pixel\",\"lines\":[{\"boundingBox\":[616,291,1050,278,1053,384,620,397],\"text\":\"Contoso\",\"words\":[{\"boundingBox\":[619,292,1051,284,1052,382,620,398],\"text\":\"Contoso\"}]},{\"boundingBox\":[322,588,501,600,497,655,318,643],\"text\":\"Contoso\",\"words\":[{\"boundingBox\":[330,590,501,602,499,654,326,644],\"text\":\"Contoso\"}]},{\"boundingBox\":[318,689,655,694,654,757,317,752],\"text\":\"123 Main Street\",\"words\":[{\"boundingBox\":[322,690,392,691,388,754,318,752],\"text\":\"123\"},{\"boundingBox\":[404,691,507,694,504,756,401,754],\"text\":\"Main\"},{\"boundingBox\":[520,694,655,697,652,757,516,756],\"text\":\"Street\"}]},{\"boundingBox\":[310,794,751,793,752,858,311,859],\"text\":\"Redmond, WA 98052\",\"words\":[{\"boundingBox\":[317,794,526,794,524,860,315,858],\"text\":\"Redmond,\"},{\"boundingBox\":[538,794,601,794,599,860,536,860],\"text\":\"WA\"},{\"boundingBox\":[613,794,751,794,750,857,612,860],\"text\":\"98052\"}]},{\"boundingBox\":[300,1003,618,1010,616,1068,298,1062],\"text\":\"123-456-7890\",\"words\":[{\"boundingBox\":[309,1004,616,1012,614,1069,307,1063],\"text\":\"123-456-7890\"}]},{\"boundingBox\":[302,1221,630,1224,629,1289,301,1286],\"text\":\"6/10/2019 13:59\",\"words\":[{\"boundingBox\":[307,1224,511,1224,510,1289,306,1287],\"text\":\"6/10/2019\",\"confidence\":\"Low\"},{\"boundingBox\":[524,1224,628,1228,627,1290,523,1289],\"text\":\"13:59\"}]},{\"boundingBox\":[294,1333,769,1335,768,1401,293,1399],\"text\":\"Sales Associate: Paul\",\"words\":[{\"boundingBox\":[304,1334,418,1334,417,1398,302,1399],\"text\":\"Sales\"},{\"boundingBox\":[431,1334,652,1335,649,1400,429,1398],\"text\":\"Associate:\"},{\"boundingBox\":[664,1335,766,1336,763,1402,662,1400],\"text\":\"Paul\"}]},{\"boundingBox\":[336,1560,679,1561,678,1624,335,1622],\"text\":\"1 Surface Pro 6\",\"words\":[{\"boundingBox\":[336,1560,366,1560,365,1624,336,1624],\"text\":\"1\"},{\"boundingBox\":[379,1560,548,1561,547,1624,378,1624],\"text\":\"Surface\"},{\"boundingBox\":[560,1562,637,1562,636,1624,560,1624],\"text\":\"Pro\"},{\"boundingBox\":[649,1562,679,1562,678,1625,649,1625],\"text\":\"6\"}]},{\"boundingBox\":[371,1666,847,1669,846,1744,370,1741],\"text\":\"256GB / Intel Core 15 /\",\"words\":[{\"boundingBox\":[375,1669,514,1670,510,1739,371,1740],\"text\":\"256GB\"},{\"boundingBox\":[527,1670,537,1670,533,1739,524,1739],\"text\":\"/\"},{\"boundingBox\":[551,1670,652,1670,650,1740,547,1739],\"text\":\"Intel\"},{\"boundingBox\":[666,1670,764,1670,762,1742,664,1740],\"text\":\"Core\"},{\"boundingBox\":[778,1669,815,1669,813,1744,775,1743],\"text\":\"15\",\"confidence\":\"Low\"},{\"boundingBox\":[828,1669,847,1669,845,1745,827,1744],\"text\":\"/\"}]},{\"boundingBox\":[369,1781,732,1784,731,1852,368,1849],\"text\":\"8GB RAM (Black)\",\"words\":[{\"boundingBox\":[374,1782,458,1783,454,1850,369,1849],\"text\":\"8GB\",\"confidence\":\"Low\"},{\"boundingBox\":[471,1783,568,1783,565,1851,467,1850],\"text\":\"RAM\"},{\"boundingBox\":[581,1784,730,1785,729,1853,578,1851],\"text\":\"(Black)\"}]},{\"boundingBox\":[937,1785,1139,1790,1137,1862,936,1859],\"text\":\"$ 999.00\",\"words\":[{\"boundingBox\":[941,1785,966,1785,965,1859,940,1859],\"text\":\"$\"},{\"boundingBox\":[981,1785,1134,1788,1132,1862,979,1859],\"text\":\"999.00\"}]},{\"boundingBox\":[318,2019,627,2012,629,2076,320,2083],\"text\":\"1 SurfacePen\",\"words\":[{\"boundingBox\":[324,2020,353,2019,354,2083,325,2084],\"text\":\"1\"},{\"boundingBox\":[365,2019,624,2013,626,2077,367,2082],\"text\":\"SurfacePen\"}]},{\"boundingBox\":[967,2027,1128,2029,1128,2091,967,2091],\"text\":\"$ 99.99\",\"words\":[{\"boundingBox\":[971,2027,996,2027,996,2091,970,2091],\"text\":\"$\"},{\"boundingBox\":[1009,2027,1124,2027,1124,2091,1009,2091],\"text\":\"99.99\"}]},{\"boundingBox\":[474,2240,703,2244,702,2312,472,2308],\"text\":\"Sub-Total\",\"words\":[{\"boundingBox\":[475,2242,703,2244,702,2313,473,2307],\"text\":\"Sub-Total\"}]},{\"boundingBox\":[930,2254,1134,2247,1134,2323,932,2328],\"text\":\"$ 1098.99\",\"words\":[{\"boundingBox\":[929,2252,949,2252,952,2328,931,2328],\"text\":\"$\"},{\"boundingBox\":[965,2251,1132,2247,1134,2322,967,2327],\"text\":\"1098.99\"}]},{\"boundingBox\":[566,2354,661,2358,658,2423,563,2419],\"text\":\"Tax\",\"words\":[{\"boundingBox\":[573,2354,660,2357,657,2422,570,2419],\"text\":\"Tax\"}]},{\"boundingBox\":[940,2368,1134,2363,1137,2433,942,2438],\"text\":\"$ 104.40\",\"words\":[{\"boundingBox\":[948,2366,972,2366,974,2437,950,2437],\"text\":\"$\"},{\"boundingBox\":[986,2365,1133,2362,1134,2433,988,2436],\"text\":\"104.40\"}]},{\"boundingBox\":[551,2591,672,2584,675,2652,554,2659],\"text\":\"Total\",\"words\":[{\"boundingBox\":[549,2591,667,2584,671,2652,553,2658],\"text\":\"Total\"}]},{\"boundingBox\":[918,2587,1124,2610,1116,2678,910,2655],\"text\":\"$ 1203.39\",\"words\":[{\"boundingBox\":[922,2590,948,2592,942,2660,916,2657],\"text\":\"$\"},{\"boundingBox\":[962,2594,1124,2611,1116,2678,955,2661],\"text\":\"1203.39\"}]}]}],\"understandingResults\":[{\"pages\":[1],\"fields\":{\"Subtotal\":{\"valueType\":\"numberValue\",\"value\":1098.99,\"text\":\"1098.99\",\"elements\":[{\"$ref\":\"#/recognitionResults/0/lines/14/words/1\"}]},\"Total\":{\"valueType\":\"numberValue\",\"value\":1203.39,\"text\":\"1203.39\",\"elements\":[{\"$ref\":\"#/recognitionResults/0/lines/18/words/1\"}]},\"Tax\":{\"valueType\":\"numberValue\",\"value\":104.4,\"text\":\"$104.40\",\"elements\":[{\"$ref\":\"#/recognitionResults/0/lines/16/words/0\"},{\"$ref\":\"#/recognitionResults/0/lines/16/words/1\"}]},\"MerchantAddress\":{\"valueType\":\"stringValue\",\"value\":\"123 Main Street Redmond, WA 98052\",\"text\":\"123 Main Street Redmond, WA 98052\",\"elements\":[{\"$ref\":\"#/recognitionResults/0/lines/2/words/0\"},{\"$ref\":\"#/recognitionResults/0/lines/2/words/1\"},{\"$ref\":\"#/recognitionResults/0/lines/2/words/2\"},{\"$ref\":\"#/recognitionResults/0/lines/3/words/0\"},{\"$ref\":\"#/recognitionResults/0/lines/3/words/1\"},{\"$ref\":\"#/recognitionResults/0/lines/3/words/2\"}]},\"MerchantName\":{\"valueType\":\"stringValue\",\"value\":\"Contoso\",\"text\":\"Contoso\",\"elements\":[{\"$ref\":\"#/recognitionResults/0/lines/1/words/0\"}]},\"MerchantPhoneNumber\":{\"valueType\":\"stringValue\",\"value\":null,\"text\":\"123-456-7890\",\"elements\":[{\"$ref\":\"#/recognitionResults/0/lines/4/words/0\"}]},\"TransactionDate\":{\"valueType\":\"stringValue\",\"value\":\"2019-06-10\",\"text\":\"6/10/2019\",\"elements\":[{\"$ref\":\"#/recognitionResults/0/lines/5/words/0\"}]},\"TransactionTime\":{\"valueType\":\"stringValue\",\"value\":\"13:59:00\",\"text\":\"13:59\",\"elements\":[{\"$ref\":\"#/recognitionResults/0/lines/5/words/1\"}]}}}]}\n",
          "name": "stdout"
        }
      ]
    },
    {
      "metadata": {
        "trusted": true
      },
      "cell_type": "code",
      "source": "",
      "execution_count": null,
      "outputs": []
    }
  ],
  "metadata": {
    "kernelspec": {
      "name": "python3",
      "display_name": "Python 3",
      "language": "python"
    },
    "language_info": {
      "mimetype": "text/x-python",
      "nbconvert_exporter": "python",
      "name": "python",
      "file_extension": ".py",
      "version": "3.5.4",
      "pygments_lexer": "ipython3",
      "codemirror_mode": {
        "version": 3,
        "name": "ipython"
      }
    }
  },
  "nbformat": 4,
  "nbformat_minor": 2
}